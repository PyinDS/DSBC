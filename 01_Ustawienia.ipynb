{
  "nbformat": 4,
  "nbformat_minor": 0,
  "metadata": {
    "colab": {
      "name": "01_Ustawienia.ipynb",
      "provenance": [],
      "authorship_tag": "ABX9TyPUKwK0kqKYcF9AadhtW4Q2",
      "include_colab_link": true
    },
    "kernelspec": {
      "name": "python3",
      "display_name": "Python 3"
    },
    "language_info": {
      "name": "python"
    }
  },
  "cells": [
    {
      "cell_type": "markdown",
      "metadata": {
        "id": "view-in-github",
        "colab_type": "text"
      },
      "source": [
        "<a href=\"https://colab.research.google.com/github/PyinDS/DSBC/blob/main/01_Ustawienia.ipynb\" target=\"_parent\"><img src=\"https://colab.research.google.com/assets/colab-badge.svg\" alt=\"Open In Colab\"/></a>"
      ]
    },
    {
      "cell_type": "markdown",
      "source": [
        "**Ustawienia**:\n",
        "1. Połączenie z GitHub\n",
        "Menu: Plik > Zapisz kopie w usłudze GitHub\n",
        "2. Zmiana tła\n",
        "Menu: Narzędzia > Ustawienia > Witryna > Motyw > Dark\n",
        "\n"
      ],
      "metadata": {
        "id": "7vLNIQnyolMB"
      }
    },
    {
      "cell_type": "code",
      "execution_count": 1,
      "metadata": {
        "colab": {
          "base_uri": "https://localhost:8080/"
        },
        "id": "3LCLdMgcojMb",
        "outputId": "94c45e36-dcc8-406d-fa62-19764a4fb75b"
      },
      "outputs": [
        {
          "output_type": "stream",
          "name": "stdout",
          "text": [
            "Test środowsika.\n"
          ]
        }
      ],
      "source": [
        "print(\"Test środowsika.\")"
      ]
    }
  ]
}